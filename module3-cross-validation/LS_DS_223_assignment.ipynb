{
 "cells": [
  {
   "cell_type": "markdown",
   "metadata": {},
   "source": [
    "Lambda School Data Science\n",
    "\n",
    "*Unit 2, Sprint 2, Module 3*\n",
    "\n",
    "---"
   ]
  },
  {
   "cell_type": "markdown",
   "metadata": {},
   "source": [
    "# Cross-Validation\n",
    "\n",
    "\n",
    "## Assignment\n",
    "- [ ] [Review requirements for your portfolio project](https://lambdaschool.github.io/ds/unit2), then submit your dataset.\n",
    "- [ ] Continue to participate in our Kaggle challenge. \n",
    "- [ ] Use scikit-learn for hyperparameter optimization with RandomizedSearchCV.\n",
    "- [ ] Submit your predictions to our Kaggle competition. (Go to our Kaggle InClass competition webpage. Use the blue **Submit Predictions** button to upload your CSV file. Or you can use the Kaggle API to submit your predictions.)\n",
    "- [ ] Commit your notebook to your fork of the GitHub repo.\n",
    "\n",
    "\n",
    "**You can't just copy** from the lesson notebook to this assignment.\n",
    "\n",
    "- Because the lesson was **regression**, but the assignment is **classification.**\n",
    "- Because the lesson used [TargetEncoder](https://contrib.scikit-learn.org/categorical-encoding/targetencoder.html), which doesn't work as-is for _multi-class_ classification.\n",
    "\n",
    "So you will have to adapt the example, which is good real-world practice.\n",
    "\n",
    "1. Use a model for classification, such as [RandomForestClassifier](https://scikit-learn.org/stable/modules/generated/sklearn.ensemble.RandomForestClassifier.html)\n",
    "2. Use hyperparameters that match the classifier, such as `randomforestclassifier__ ...`\n",
    "3. Use a metric for classification, such as [`scoring='accuracy'`](https://scikit-learn.org/stable/modules/model_evaluation.html#common-cases-predefined-values)\n",
    "4. If you’re doing a multi-class classification problem — such as whether a waterpump is functional, functional needs repair, or nonfunctional — then use a categorical encoding that works for multi-class classification, such as [OrdinalEncoder](https://contrib.scikit-learn.org/categorical-encoding/ordinal.html) (not [TargetEncoder](https://contrib.scikit-learn.org/categorical-encoding/targetencoder.html))\n",
    "\n",
    "\n",
    "\n",
    "## Stretch Goals\n",
    "\n",
    "### Reading\n",
    "- Jake VanderPlas, [Python Data Science Handbook, Chapter 5.3](https://jakevdp.github.io/PythonDataScienceHandbook/05.03-hyperparameters-and-model-validation.html), Hyperparameters and Model Validation\n",
    "- Jake VanderPlas, [Statistics for Hackers](https://speakerdeck.com/jakevdp/statistics-for-hackers?slide=107)\n",
    "- Ron Zacharski, [A Programmer's Guide to Data Mining, Chapter 5](http://guidetodatamining.com/chapter5/), 10-fold cross validation\n",
    "- Sebastian Raschka, [A Basic Pipeline and Grid Search Setup](https://github.com/rasbt/python-machine-learning-book/blob/master/code/bonus/svm_iris_pipeline_and_gridsearch.ipynb)\n",
    "- Peter Worcester, [A Comparison of Grid Search and Randomized Search Using Scikit Learn](https://blog.usejournal.com/a-comparison-of-grid-search-and-randomized-search-using-scikit-learn-29823179bc85)\n",
    "\n",
    "### Doing\n",
    "- Add your own stretch goals!\n",
    "- Try other [categorical encodings](https://contrib.scikit-learn.org/categorical-encoding/). See the previous assignment notebook for details.\n",
    "- In additon to `RandomizedSearchCV`, scikit-learn has [`GridSearchCV`](https://scikit-learn.org/stable/modules/generated/sklearn.model_selection.GridSearchCV.html). Another library called scikit-optimize has [`BayesSearchCV`](https://scikit-optimize.github.io/notebooks/sklearn-gridsearchcv-replacement.html). Experiment with these alternatives.\n",
    "- _[Introduction to Machine Learning with Python](http://shop.oreilly.com/product/0636920030515.do)_ discusses options for \"Grid-Searching Which Model To Use\" in Chapter 6:\n",
    "\n",
    "> You can even go further in combining GridSearchCV and Pipeline: it is also possible to search over the actual steps being performed in the pipeline (say whether to use StandardScaler or MinMaxScaler). This leads to an even bigger search space and should be considered carefully. Trying all possible solutions is usually not a viable machine learning strategy. However, here is an example comparing a RandomForestClassifier and an SVC ...\n",
    "\n",
    "The example is shown in [the accompanying notebook](https://github.com/amueller/introduction_to_ml_with_python/blob/master/06-algorithm-chains-and-pipelines.ipynb), code cells 35-37. Could you apply this concept to your own pipelines?\n"
   ]
  },
  {
   "cell_type": "markdown",
   "metadata": {},
   "source": [
    "### BONUS: Stacking!\n",
    "\n",
    "Here's some code you can use to \"stack\" multiple submissions, which is another form of ensembling:\n",
    "\n",
    "```python\n",
    "import pandas as pd\n",
    "\n",
    "# Filenames of your submissions you want to ensemble\n",
    "files = ['submission-01.csv', 'submission-02.csv', 'submission-03.csv']\n",
    "\n",
    "target = 'status_group'\n",
    "submissions = (pd.read_csv(file)[[target]] for file in files)\n",
    "ensemble = pd.concat(submissions, axis='columns')\n",
    "majority_vote = ensemble.mode(axis='columns')[0]\n",
    "\n",
    "sample_submission = pd.read_csv('sample_submission.csv')\n",
    "submission = sample_submission.copy()\n",
    "submission[target] = majority_vote\n",
    "submission.to_csv('my-ultimate-ensemble-submission.csv', index=False)\n",
    "```"
   ]
  },
  {
   "cell_type": "code",
   "execution_count": 1,
   "metadata": {},
   "outputs": [],
   "source": [
    "%%capture\n",
    "import sys\n",
    "\n",
    "# If you're on Colab:\n",
    "if 'google.colab' in sys.modules:\n",
    "    DATA_PATH = 'https://raw.githubusercontent.com/LambdaSchool/DS-Unit-2-Kaggle-Challenge/master/data/'\n",
    "    !pip install category_encoders==2.*\n",
    "\n",
    "# If you're working locally:\n",
    "else:\n",
    "    DATA_PATH = '../data/'"
   ]
  },
  {
   "cell_type": "code",
   "execution_count": 2,
   "metadata": {},
   "outputs": [],
   "source": [
    "import pandas as pd\n",
    "\n",
    "# Merge train_features.csv & train_labels.csv\n",
    "train = pd.merge(pd.read_csv(DATA_PATH+'waterpumps/train_features.csv'), \n",
    "                 pd.read_csv(DATA_PATH+'waterpumps/train_labels.csv'))\n",
    "\n",
    "# Read test_features.csv & sample_submission.csv\n",
    "test = pd.read_csv(DATA_PATH+'waterpumps/test_features.csv')\n",
    "sample_submission = pd.read_csv(DATA_PATH+'waterpumps/sample_submission.csv')"
   ]
  },
  {
   "cell_type": "code",
   "execution_count": 37,
   "metadata": {},
   "outputs": [],
   "source": [
    "from sklearn.model_selection import train_test_split, RandomizedSearchCV\n",
    "import numpy as np\n",
    "import pandas as pd\n",
    "import category_encoders as ce\n",
    "from sklearn.ensemble import RandomForestClassifier\n",
    "from sklearn.impute import SimpleImputer\n",
    "from sklearn.pipeline import make_pipeline\n",
    "from scipy.stats import uniform\n",
    "\n",
    "def feature_finding(X):\n",
    "    X = X.copy()\n",
    "    X['latitude'] = X['latitude'].replace(-2e-08,0)\n",
    "    bad = ['id','recorded_by','quantity_group','payment_type','source_type']\n",
    "    X = X.drop(columns=bad)\n",
    "    cols_with_zeros = ['longitude','latitude','construction_year',\n",
    "                       'gps_height','population']\n",
    "    for cols in cols_with_zeros:\n",
    "        X[cols] = X[cols].replace(0, np.nan)\n",
    "        X[cols+'_MISSING'] = X[cols].isnull()\n",
    "    X['date_recorded'] = pd.to_datetime(X['date_recorded'], infer_datetime_format=True)\n",
    "    X['year_recorded'] = X['date_recorded'].dt.year\n",
    "    X = X.drop(columns='date_recorded')\n",
    "    X['years'] = X['year_recorded'] - X['construction_year']\n",
    "    X['years_MISSING'] = X['years'].isnull()\n",
    "    return X\n"
   ]
  },
  {
   "cell_type": "code",
   "execution_count": 4,
   "metadata": {},
   "outputs": [
    {
     "data": {
      "text/plain": [
       "((47520, 41), (11880, 41), (14358, 40))"
      ]
     },
     "execution_count": 4,
     "metadata": {},
     "output_type": "execute_result"
    }
   ],
   "source": [
    "train, val = train_test_split(train, train_size=.8, test_size=.2,\n",
    "                             stratify=train['status_group'], random_state=1)\n",
    "train.shape, val.shape, test.shape"
   ]
  },
  {
   "cell_type": "code",
   "execution_count": 5,
   "metadata": {},
   "outputs": [],
   "source": [
    "train = feature_finding(train) \n",
    "val = feature_finding(val)\n",
    "test = feature_finding(test)"
   ]
  },
  {
   "cell_type": "code",
   "execution_count": 6,
   "metadata": {},
   "outputs": [
    {
     "data": {
      "text/plain": [
       "((47520, 43), (11880, 43), (14358, 42))"
      ]
     },
     "execution_count": 6,
     "metadata": {},
     "output_type": "execute_result"
    }
   ],
   "source": [
    "train.shape, val.shape, test.shape\n"
   ]
  },
  {
   "cell_type": "code",
   "execution_count": 7,
   "metadata": {},
   "outputs": [],
   "source": [
    "target = 'status_group'\n",
    "X_train = train.drop(columns=[target])\n",
    "y_train = train[target]\n",
    "X_val = val.drop(columns=[target])\n",
    "y_val = val[target]\n",
    "X_test = test"
   ]
  },
  {
   "cell_type": "code",
   "execution_count": 8,
   "metadata": {},
   "outputs": [
    {
     "name": "stdout",
     "output_type": "stream",
     "text": [
      "Accuracy for 5 folds: [0.80397727 0.80934343 0.80071549 0.79713805 0.80418771]\n"
     ]
    }
   ],
   "source": [
    "from sklearn.model_selection import cross_val_score\n",
    "\n",
    "pipeline = make_pipeline(ce.OrdinalEncoder(),\n",
    "                        SimpleImputer(strategy='median'),\n",
    "                        RandomForestClassifier(random_state=1, n_jobs=-1))\n",
    "k = 5\n",
    "scores = cross_val_score(pipeline, X_train, y_train, cv=k,\n",
    "                        scoring='accuracy')\n",
    "print(f'Accuracy for {k} folds:', scores)"
   ]
  },
  {
   "cell_type": "code",
   "execution_count": 9,
   "metadata": {},
   "outputs": [
    {
     "name": "stdout",
     "output_type": "stream",
     "text": [
      "Validation Accuracy: 0.8066498316498316\n"
     ]
    }
   ],
   "source": [
    "pipeline.fit(X_train, y_train)\n",
    "print('Validation Accuracy:', pipeline.score(X_val, y_val))"
   ]
  },
  {
   "cell_type": "code",
   "execution_count": 10,
   "metadata": {},
   "outputs": [
    {
     "data": {
      "text/plain": [
       "['amount_tsh',\n",
       " 'funder',\n",
       " 'gps_height',\n",
       " 'installer',\n",
       " 'longitude',\n",
       " 'latitude',\n",
       " 'wpt_name',\n",
       " 'num_private',\n",
       " 'basin',\n",
       " 'subvillage',\n",
       " 'region',\n",
       " 'region_code',\n",
       " 'district_code',\n",
       " 'lga',\n",
       " 'ward',\n",
       " 'population',\n",
       " 'public_meeting',\n",
       " 'scheme_management',\n",
       " 'scheme_name',\n",
       " 'permit',\n",
       " 'construction_year',\n",
       " 'extraction_type',\n",
       " 'extraction_type_group',\n",
       " 'extraction_type_class',\n",
       " 'management',\n",
       " 'management_group',\n",
       " 'payment',\n",
       " 'water_quality',\n",
       " 'quality_group',\n",
       " 'quantity',\n",
       " 'source',\n",
       " 'source_class',\n",
       " 'waterpoint_type',\n",
       " 'waterpoint_type_group',\n",
       " 'longitude_MISSING',\n",
       " 'latitude_MISSING',\n",
       " 'construction_year_MISSING',\n",
       " 'gps_height_MISSING',\n",
       " 'population_MISSING',\n",
       " 'year_recorded',\n",
       " 'years',\n",
       " 'years_MISSING']"
      ]
     },
     "execution_count": 10,
     "metadata": {},
     "output_type": "execute_result"
    }
   ],
   "source": [
    "columns = X_train.columns.to_list()\n",
    "columns"
   ]
  },
  {
   "cell_type": "code",
   "execution_count": 13,
   "metadata": {},
   "outputs": [
    {
     "data": {
      "text/plain": [
       "16496"
      ]
     },
     "execution_count": 13,
     "metadata": {},
     "output_type": "execute_result"
    }
   ],
   "source": [
    "X_train['years'].isnull().sum()"
   ]
  },
  {
   "cell_type": "code",
   "execution_count": 15,
   "metadata": {},
   "outputs": [
    {
     "data": {
      "text/plain": [
       "<matplotlib.axes._subplots.AxesSubplot at 0x1a957b4d588>"
      ]
     },
     "execution_count": 15,
     "metadata": {},
     "output_type": "execute_result"
    },
    {
     "data": {
      "image/png": "[encoded data removed]",
      "text/plain": [
       "<Figure size 720x720 with 1 Axes>"
      ]
     },
     "metadata": {
      "needs_background": "light"
     },
     "output_type": "display_data"
    }
   ],
   "source": [
    "import matplotlib.pyplot as plt\n",
    "%matplotlib inline\n",
    "model = pipeline.named_steps['randomforestclassifier']\n",
    "encoder = pipeline.named_steps['ordinalencoder']\n",
    "encoded_columns = encoder.transform(X_val).columns\n",
    "importances = pd.Series(model.feature_importances_, encoded_columns)\n",
    "plt.figure(figsize=(10,10))\n",
    "importances.sort_values().plot.barh()"
   ]
  },
  {
   "cell_type": "code",
   "execution_count": 33,
   "metadata": {},
   "outputs": [
    {
     "data": {
      "text/plain": [
       "['amount_tsh',\n",
       " 'funder',\n",
       " 'gps_height',\n",
       " 'installer',\n",
       " 'longitude',\n",
       " 'latitude',\n",
       " 'wpt_name',\n",
       " 'basin',\n",
       " 'subvillage',\n",
       " 'region',\n",
       " 'region_code',\n",
       " 'district_code',\n",
       " 'lga',\n",
       " 'ward',\n",
       " 'population',\n",
       " 'public_meeting',\n",
       " 'scheme_management',\n",
       " 'scheme_name',\n",
       " 'permit',\n",
       " 'construction_year',\n",
       " 'extraction_type',\n",
       " 'extraction_type_group',\n",
       " 'extraction_type_class',\n",
       " 'management',\n",
       " 'management_group',\n",
       " 'payment',\n",
       " 'water_quality',\n",
       " 'quality_group',\n",
       " 'quantity',\n",
       " 'source',\n",
       " 'source_class',\n",
       " 'waterpoint_type',\n",
       " 'waterpoint_type_group',\n",
       " 'year_recorded',\n",
       " 'years']"
      ]
     },
     "execution_count": 33,
     "metadata": {},
     "output_type": "execute_result"
    }
   ],
   "source": [
    "notwanted = ['num_private','longitude_MISSING','latitude_MISSING','population_MISSING',\n",
    "             'construction_year_MISSING','gps_height_MISSING','years_MISSING']\n",
    "X_train2 = train.drop(columns=notwanted)\n",
    "X_train2 = X_train2.drop(columns=target)\n",
    "y_train2 = train[target]\n",
    "X_val2 = val.drop(columns=notwanted)\n",
    "X_val2 = X_val2.drop(columns=target)\n",
    "y_val2 = val[target]\n",
    "X_test2 = test.drop(columns=notwanted)\n",
    "columns2 = X_train2.columns.to_list()\n",
    "columns2"
   ]
  },
  {
   "cell_type": "code",
   "execution_count": 34,
   "metadata": {},
   "outputs": [
    {
     "name": "stdout",
     "output_type": "stream",
     "text": [
      "Accuracy for 5 folds: [0.7996633  0.81323653 0.8013468  0.79345539 0.80050505]\n"
     ]
    }
   ],
   "source": [
    "pipe2 = make_pipeline(ce.OrdinalEncoder(),\n",
    "                        SimpleImputer(strategy='median'),\n",
    "                        RandomForestClassifier(random_state=1, n_jobs=-1))\n",
    "k = 5\n",
    "scores = cross_val_score(pipe2, X_train2, y_train2, cv=k,\n",
    "                        scoring='accuracy')\n",
    "print(f'Accuracy for {k} folds:', scores)"
   ]
  },
  {
   "cell_type": "code",
   "execution_count": 35,
   "metadata": {},
   "outputs": [
    {
     "name": "stdout",
     "output_type": "stream",
     "text": [
      "Validation Accuracy: 0.8046296296296296\n"
     ]
    }
   ],
   "source": [
    "pipe2.fit(X_train2, y_train2)\n",
    "print('Validation Accuracy:', pipe2.score(X_val2, y_val2))"
   ]
  },
  {
   "cell_type": "code",
   "execution_count": 36,
   "metadata": {},
   "outputs": [
    {
     "data": {
      "text/plain": [
       "<matplotlib.axes._subplots.AxesSubplot at 0x1a96ccdb6c8>"
      ]
     },
     "execution_count": 36,
     "metadata": {},
     "output_type": "execute_result"
    },
    {
     "data": {
      "image/png": "[encoded data removed]",
      "text/plain": [
       "<Figure size 720x720 with 1 Axes>"
      ]
     },
     "metadata": {
      "needs_background": "light"
     },
     "output_type": "display_data"
    }
   ],
   "source": [
    "model2 = pipe2.named_steps['randomforestclassifier']\n",
    "encoder2 = pipe2.named_steps['ordinalencoder']\n",
    "encoded_columns2 = encoder2.transform(X_val2).columns\n",
    "importances2 = pd.Series(model2.feature_importances_, encoded_columns2)\n",
    "plt.figure(figsize=(10,10))\n",
    "importances2.sort_values().plot.barh()"
   ]
  },
  {
   "cell_type": "markdown",
   "metadata": {},
   "source": [
    "Hm. Dropping a bunch of columns drops like a small percentage. Might as well go back to pipeline.\n"
   ]
  },
  {
   "cell_type": "code",
   "execution_count": 45,
   "metadata": {},
   "outputs": [
    {
     "name": "stdout",
     "output_type": "stream",
     "text": [
      "Fitting 5 folds for each of 50 candidates, totalling 250 fits\n"
     ]
    },
    {
     "name": "stderr",
     "output_type": "stream",
     "text": [
      "[Parallel(n_jobs=-1)]: Using backend LokyBackend with 12 concurrent workers.\n",
      "[Parallel(n_jobs=-1)]: Done   1 tasks      | elapsed:   25.1s\n",
      "[Parallel(n_jobs=-1)]: Done   8 tasks      | elapsed:   32.5s\n",
      "[Parallel(n_jobs=-1)]: Done  17 tasks      | elapsed:  2.0min\n",
      "[Parallel(n_jobs=-1)]: Done  26 tasks      | elapsed:  2.7min\n",
      "[Parallel(n_jobs=-1)]: Done  37 tasks      | elapsed:  4.1min\n",
      "[Parallel(n_jobs=-1)]: Done  48 tasks      | elapsed:  5.2min\n",
      "[Parallel(n_jobs=-1)]: Done  61 tasks      | elapsed:  6.0min\n",
      "[Parallel(n_jobs=-1)]: Done  74 tasks      | elapsed:  6.7min\n",
      "[Parallel(n_jobs=-1)]: Done  89 tasks      | elapsed:  7.3min\n",
      "[Parallel(n_jobs=-1)]: Done 104 tasks      | elapsed:  8.0min\n",
      "[Parallel(n_jobs=-1)]: Done 121 tasks      | elapsed:  9.1min\n",
      "[Parallel(n_jobs=-1)]: Done 138 tasks      | elapsed: 11.1min\n",
      "[Parallel(n_jobs=-1)]: Done 157 tasks      | elapsed: 13.0min\n",
      "[Parallel(n_jobs=-1)]: Done 176 tasks      | elapsed: 14.0min\n",
      "[Parallel(n_jobs=-1)]: Done 197 tasks      | elapsed: 15.2min\n",
      "[Parallel(n_jobs=-1)]: Done 218 tasks      | elapsed: 18.1min\n",
      "[Parallel(n_jobs=-1)]: Done 250 out of 250 | elapsed: 20.3min finished\n"
     ]
    },
    {
     "data": {
      "text/plain": [
       "RandomizedSearchCV(cv=5,\n",
       "                   estimator=Pipeline(steps=[('ordinalencoder',\n",
       "                                              OrdinalEncoder(cols=['funder',\n",
       "                                                                   'installer',\n",
       "                                                                   'wpt_name',\n",
       "                                                                   'basin',\n",
       "                                                                   'subvillage',\n",
       "                                                                   'region',\n",
       "                                                                   'lga',\n",
       "                                                                   'ward',\n",
       "                                                                   'public_meeting',\n",
       "                                                                   'scheme_management',\n",
       "                                                                   'scheme_name',\n",
       "                                                                   'permit',\n",
       "                                                                   'extraction_type',\n",
       "                                                                   'extraction_type_group',\n",
       "                                                                   'extraction_type_class',\n",
       "                                                                   'management',\n",
       "                                                                   'management_group',\n",
       "                                                                   'payment',\n",
       "                                                                   'water_quality',\n",
       "                                                                   'q...\n",
       "                   n_iter=50, n_jobs=-1,\n",
       "                   param_distributions={'randomforestclassifier__max_depth': [5,\n",
       "                                                                              10,\n",
       "                                                                              15,\n",
       "                                                                              20,\n",
       "                                                                              None],\n",
       "                                        'randomforestclassifier__max_features': <scipy.stats._distn_infrastructure.rv_frozen object at 0x000001A96C872108>,\n",
       "                                        'randomforestclassifier__min_samples_leaf': [1,\n",
       "                                                                                     10,\n",
       "                                                                                     100],\n",
       "                                        'randomforestclassifier__n_estimators': range(50, 500)},\n",
       "                   return_train_score=True, scoring='accuracy', verbose=10)"
      ]
     },
     "execution_count": 45,
     "metadata": {},
     "output_type": "execute_result"
    }
   ],
   "source": [
    "#pipeline\n",
    "param = {'randomforestclassifier__n_estimators': range(50,500),\n",
    "      'randomforestclassifier__max_depth':[5,10,15,20, None],\n",
    "      'randomforestclassifier__max_features': uniform(0,1),\n",
    "      'randomforestclassifier__min_samples_leaf': [1,10,100],}\n",
    "\n",
    "randomized = RandomizedSearchCV(pipeline, param_distributions= param,\n",
    "                                n_iter=50, cv=5, scoring='accuracy',\n",
    "                                verbose=10, return_train_score=True,\n",
    "                                n_jobs=-1)\n",
    "randomized.fit(X_train, y_train)\n"
   ]
  },
  {
   "cell_type": "code",
   "execution_count": 46,
   "metadata": {},
   "outputs": [
    {
     "data": {
      "text/plain": [
       "(14358,)"
      ]
     },
     "execution_count": 46,
     "metadata": {},
     "output_type": "execute_result"
    }
   ],
   "source": [
    "#Investigat this error later- estimator.get_params().keys()\n",
    "y_pred = randomized.predict(X_test)\n",
    "y_pred.shape"
   ]
  },
  {
   "cell_type": "code",
   "execution_count": 47,
   "metadata": {},
   "outputs": [
    {
     "name": "stdout",
     "output_type": "stream",
     "text": [
      "Validation Accuracy: 0.8090909090909091\n"
     ]
    }
   ],
   "source": [
    "print('Validation Accuracy:',randomized.score(X_val,y_val))"
   ]
  },
  {
   "cell_type": "code",
   "execution_count": 49,
   "metadata": {},
   "outputs": [],
   "source": [
    "submission = sample_submission.copy()\n",
    "submission['status_group'] = y_pred\n",
    "submission.to_csv('robbennettrandomizedforest.csv', index=False)"
   ]
  },
  {
   "cell_type": "code",
   "execution_count": null,
   "metadata": {},
   "outputs": [],
   "source": []
  }
 ],
 "metadata": {
  "kernelspec": {
   "display_name": "Python 3",
   "language": "python",
   "name": "python3"
  },
  "language_info": {
   "codemirror_mode": {
    "name": "ipython",
    "version": 3
   },
   "file_extension": ".py",
   "mimetype": "text/x-python",
   "name": "python",
   "nbconvert_exporter": "python",
   "pygments_lexer": "ipython3",
   "version": "3.7.6"
  }
 },
 "nbformat": 4,
 "nbformat_minor": 4
}
